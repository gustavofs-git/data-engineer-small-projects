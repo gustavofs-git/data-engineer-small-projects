{
  "cells": [
    {
      "cell_type": "markdown",
      "metadata": {},
      "source": [
        "Modelagem de Preços de Casas Utilizando MLlib do PySpark\n",
        "\n",
        "1. Contextualização do Problema\n",
        "O objetivo deste projeto foi criar um modelo de aprendizado de máquina para prever os preços de casas utilizando regressao linear baseados na datasource localizada em: https://www.kaggle.com/datasets/harlfoxem/housesalesprediction\n",
        "\n",
        "2. Análise dos Dados\n",
        "Os dados foram carregados e limpos para que estivessem prontos para uso em um modelo de regressão. Foram realizadas transformações básicas para lidar com valores nulos e preparar as variáveis para o modelo. A coluna de preço foi selecionada como o label, enquanto outras características foram combinadas em um vetor para formar as features.\n",
        "\n",
        "3. Tratamento de Dados\n",
        "Para transformar os dados em um formato adequado para o algoritmo de aprendizado, as colunas de interesse foram convertidas em um único vetor de features, através do VectorAssembler do PySpark.\n",
        "\n",
        "4. Divisão do Conjunto de Dados\n",
        "Os dados foram divididos em dois subconjuntos:\n",
        "\n",
        "Conjunto de Treinamento: 80% dos dados\n",
        "Conjunto de Teste: 20% dos dados\n",
        "Essa divisão é crucial para avaliar a capacidade do modelo de generalizar para novos dados.\n",
        "\n",
        "5. Treinamento e Avaliação do Modelo\n",
        "Foi utilizado o algoritmo de Regressão Linear para prever o preço das casas com base nas features disponíveis. As principais métricas de avaliação foram:\n",
        "\n",
        "Conjunto de Treinamento:\n",
        "\n",
        "RMSE (Erro Quadrático Médio): 253.148,16\n",
        "R² (Coeficiente de Determinação): 0.51\n",
        "Conjunto de Teste:\n",
        "\n",
        "RMSE: 258.364,29\n",
        "R²: 0.50\n",
        "\n",
        "O modelo foi aplicado tanto na base de treinamento quanto na base de teste. A comparação entre os dois conjuntos de dados mostrou que o desempenho do modelo é semelhante em ambos:\n",
        "\n",
        "No conjunto de treinamento, o R² foi de 0.51, indicando que o modelo conseguiu explicar 51% da variação nos preços das casas.\n",
        "No conjunto de teste, o R² foi de 0.50, o que significa que o modelo manteve aproximadamente a mesma performance ao ser testado em novos dados.\n",
        "Esses resultados mostram que o modelo não está superajustado e tem uma capacidade razoável de generalizar para novos dados.\n",
        "\n",
        "6. Aprimoramento do Modelo\n",
        "Uma das sugestões para melhorar o modelo foi aplicar a normalização dos dados, utilizando o StandardScaler, para garantir que todas as variáveis fossem tratadas em uma mesma escala. Após a normalização, os resultados foram:\n",
        "\n",
        "RMSE após normalização: 254.533,08\n",
        "R² após normalização: 0.52\n",
        "A normalização trouxe uma leve melhoria na performance do modelo, reduzindo o erro e aumentando o coeficiente de determinação.\n",
        "\n",
        "7. Conclusões e Próximos Passos\n",
        "A conclusão do trabalho indica que o modelo criado é capaz de prever o preço de uma casa com base em algumas características, como o tamanho e o número de quartos. No entanto, o modelo não é perfeito: ele consegue prever aproximadamente metade das variações no preço de uma casa. Isso significa que há outros fatores que o modelo não está capturando e que influenciam no preço de uma casa, como localização, acesso a transporte, ou até características do bairro.\n",
        "\n",
        "A normalização dos dados (um tipo de ajuste para deixar os números em uma escala parecida) foi testada para ver se melhorava o modelo, e houve uma pequena melhora. Ainda assim, o modelo poderia ser aprimorado com mais dados ou usando outras técnicas. Isso é comum em projetos de aprendizado de máquina: começamos com uma versão básica, medimos o desempenho, e depois buscamos maneiras de melhorar os resultados.\n",
        "\n",
        "O modelo desenvolvido mostrou-se capaz de realizar previsões de preços de casas com uma precisão razoável. Contudo, algumas sugestões podem ser consideradas para melhorar ainda mais a performance:\n",
        "\n",
        "Adicionar mais variáveis que possam influenciar no preço, como proximidade de serviços ou nível de desenvolvimento da área.\n",
        "Testar outros algoritmos de regressão, como Regressão de Ridge ou Lasso.\n",
        "Realizar tuning de hiperparâmetros, otimizando as configurações do modelo para aumentar sua precisão.\n"
      ]
    },
    {
      "cell_type": "code",
      "execution_count": 7,
      "metadata": {
        "colab": {
          "base_uri": "https://localhost:8080/",
          "height": 73
        },
        "id": "4K2yLGsA6PlB",
        "outputId": "a7786533-3332-47c4-c150-18bd1bb9de3e"
      },
      "outputs": [
        {
          "data": {
            "text/html": [
              "\n",
              "     <input type=\"file\" id=\"files-c542048a-e29e-4934-8274-48b6137ea538\" name=\"files[]\" multiple disabled\n",
              "        style=\"border:none\" />\n",
              "     <output id=\"result-c542048a-e29e-4934-8274-48b6137ea538\">\n",
              "      Upload widget is only available when the cell has been executed in the\n",
              "      current browser session. Please rerun this cell to enable.\n",
              "      </output>\n",
              "      <script>// Copyright 2017 Google LLC\n",
              "//\n",
              "// Licensed under the Apache License, Version 2.0 (the \"License\");\n",
              "// you may not use this file except in compliance with the License.\n",
              "// You may obtain a copy of the License at\n",
              "//\n",
              "//      http://www.apache.org/licenses/LICENSE-2.0\n",
              "//\n",
              "// Unless required by applicable law or agreed to in writing, software\n",
              "// distributed under the License is distributed on an \"AS IS\" BASIS,\n",
              "// WITHOUT WARRANTIES OR CONDITIONS OF ANY KIND, either express or implied.\n",
              "// See the License for the specific language governing permissions and\n",
              "// limitations under the License.\n",
              "\n",
              "/**\n",
              " * @fileoverview Helpers for google.colab Python module.\n",
              " */\n",
              "(function(scope) {\n",
              "function span(text, styleAttributes = {}) {\n",
              "  const element = document.createElement('span');\n",
              "  element.textContent = text;\n",
              "  for (const key of Object.keys(styleAttributes)) {\n",
              "    element.style[key] = styleAttributes[key];\n",
              "  }\n",
              "  return element;\n",
              "}\n",
              "\n",
              "// Max number of bytes which will be uploaded at a time.\n",
              "const MAX_PAYLOAD_SIZE = 100 * 1024;\n",
              "\n",
              "function _uploadFiles(inputId, outputId) {\n",
              "  const steps = uploadFilesStep(inputId, outputId);\n",
              "  const outputElement = document.getElementById(outputId);\n",
              "  // Cache steps on the outputElement to make it available for the next call\n",
              "  // to uploadFilesContinue from Python.\n",
              "  outputElement.steps = steps;\n",
              "\n",
              "  return _uploadFilesContinue(outputId);\n",
              "}\n",
              "\n",
              "// This is roughly an async generator (not supported in the browser yet),\n",
              "// where there are multiple asynchronous steps and the Python side is going\n",
              "// to poll for completion of each step.\n",
              "// This uses a Promise to block the python side on completion of each step,\n",
              "// then passes the result of the previous step as the input to the next step.\n",
              "function _uploadFilesContinue(outputId) {\n",
              "  const outputElement = document.getElementById(outputId);\n",
              "  const steps = outputElement.steps;\n",
              "\n",
              "  const next = steps.next(outputElement.lastPromiseValue);\n",
              "  return Promise.resolve(next.value.promise).then((value) => {\n",
              "    // Cache the last promise value to make it available to the next\n",
              "    // step of the generator.\n",
              "    outputElement.lastPromiseValue = value;\n",
              "    return next.value.response;\n",
              "  });\n",
              "}\n",
              "\n",
              "/**\n",
              " * Generator function which is called between each async step of the upload\n",
              " * process.\n",
              " * @param {string} inputId Element ID of the input file picker element.\n",
              " * @param {string} outputId Element ID of the output display.\n",
              " * @return {!Iterable<!Object>} Iterable of next steps.\n",
              " */\n",
              "function* uploadFilesStep(inputId, outputId) {\n",
              "  const inputElement = document.getElementById(inputId);\n",
              "  inputElement.disabled = false;\n",
              "\n",
              "  const outputElement = document.getElementById(outputId);\n",
              "  outputElement.innerHTML = '';\n",
              "\n",
              "  const pickedPromise = new Promise((resolve) => {\n",
              "    inputElement.addEventListener('change', (e) => {\n",
              "      resolve(e.target.files);\n",
              "    });\n",
              "  });\n",
              "\n",
              "  const cancel = document.createElement('button');\n",
              "  inputElement.parentElement.appendChild(cancel);\n",
              "  cancel.textContent = 'Cancel upload';\n",
              "  const cancelPromise = new Promise((resolve) => {\n",
              "    cancel.onclick = () => {\n",
              "      resolve(null);\n",
              "    };\n",
              "  });\n",
              "\n",
              "  // Wait for the user to pick the files.\n",
              "  const files = yield {\n",
              "    promise: Promise.race([pickedPromise, cancelPromise]),\n",
              "    response: {\n",
              "      action: 'starting',\n",
              "    }\n",
              "  };\n",
              "\n",
              "  cancel.remove();\n",
              "\n",
              "  // Disable the input element since further picks are not allowed.\n",
              "  inputElement.disabled = true;\n",
              "\n",
              "  if (!files) {\n",
              "    return {\n",
              "      response: {\n",
              "        action: 'complete',\n",
              "      }\n",
              "    };\n",
              "  }\n",
              "\n",
              "  for (const file of files) {\n",
              "    const li = document.createElement('li');\n",
              "    li.append(span(file.name, {fontWeight: 'bold'}));\n",
              "    li.append(span(\n",
              "        `(${file.type || 'n/a'}) - ${file.size} bytes, ` +\n",
              "        `last modified: ${\n",
              "            file.lastModifiedDate ? file.lastModifiedDate.toLocaleDateString() :\n",
              "                                    'n/a'} - `));\n",
              "    const percent = span('0% done');\n",
              "    li.appendChild(percent);\n",
              "\n",
              "    outputElement.appendChild(li);\n",
              "\n",
              "    const fileDataPromise = new Promise((resolve) => {\n",
              "      const reader = new FileReader();\n",
              "      reader.onload = (e) => {\n",
              "        resolve(e.target.result);\n",
              "      };\n",
              "      reader.readAsArrayBuffer(file);\n",
              "    });\n",
              "    // Wait for the data to be ready.\n",
              "    let fileData = yield {\n",
              "      promise: fileDataPromise,\n",
              "      response: {\n",
              "        action: 'continue',\n",
              "      }\n",
              "    };\n",
              "\n",
              "    // Use a chunked sending to avoid message size limits. See b/62115660.\n",
              "    let position = 0;\n",
              "    do {\n",
              "      const length = Math.min(fileData.byteLength - position, MAX_PAYLOAD_SIZE);\n",
              "      const chunk = new Uint8Array(fileData, position, length);\n",
              "      position += length;\n",
              "\n",
              "      const base64 = btoa(String.fromCharCode.apply(null, chunk));\n",
              "      yield {\n",
              "        response: {\n",
              "          action: 'append',\n",
              "          file: file.name,\n",
              "          data: base64,\n",
              "        },\n",
              "      };\n",
              "\n",
              "      let percentDone = fileData.byteLength === 0 ?\n",
              "          100 :\n",
              "          Math.round((position / fileData.byteLength) * 100);\n",
              "      percent.textContent = `${percentDone}% done`;\n",
              "\n",
              "    } while (position < fileData.byteLength);\n",
              "  }\n",
              "\n",
              "  // All done.\n",
              "  yield {\n",
              "    response: {\n",
              "      action: 'complete',\n",
              "    }\n",
              "  };\n",
              "}\n",
              "\n",
              "scope.google = scope.google || {};\n",
              "scope.google.colab = scope.google.colab || {};\n",
              "scope.google.colab._files = {\n",
              "  _uploadFiles,\n",
              "  _uploadFilesContinue,\n",
              "};\n",
              "})(self);\n",
              "</script> "
            ],
            "text/plain": [
              "<IPython.core.display.HTML object>"
            ]
          },
          "metadata": {},
          "output_type": "display_data"
        },
        {
          "name": "stdout",
          "output_type": "stream",
          "text": [
            "Saving Datasource_Houses.csv to Datasource_Houses.csv\n"
          ]
        }
      ],
      "source": [
        "# Importar a função para upload de arquivos\n",
        "from google.colab import files\n",
        "\n",
        "# Fazer o upload do arquivo diretamente do seu computador\n",
        "uploaded = files.upload()\n",
        "\n"
      ]
    },
    {
      "cell_type": "code",
      "execution_count": 8,
      "metadata": {
        "colab": {
          "base_uri": "https://localhost:8080/"
        },
        "id": "ga9EShZN6YJ4",
        "outputId": "8be6ac37-5c4e-473c-c73c-223678ebc513"
      },
      "outputs": [
        {
          "name": "stdout",
          "output_type": "stream",
          "text": [
            "Requirement already satisfied: pyspark in /usr/local/lib/python3.10/dist-packages (3.5.3)\n",
            "Requirement already satisfied: py4j==0.10.9.7 in /usr/local/lib/python3.10/dist-packages (from pyspark) (0.10.9.7)\n",
            "+----------+---------------+--------+--------+---------+-----------+--------+------+----------+----+---------+-----+----------+-------------+--------+------------+-------+-------+--------+-------------+----------+\n",
            "|        id|           date|   price|bedrooms|bathrooms|sqft_living|sqft_lot|floors|waterfront|view|condition|grade|sqft_above|sqft_basement|yr_built|yr_renovated|zipcode|    lat|    long|sqft_living15|sqft_lot15|\n",
            "+----------+---------------+--------+--------+---------+-----------+--------+------+----------+----+---------+-----+----------+-------------+--------+------------+-------+-------+--------+-------------+----------+\n",
            "|7129300520|20141013T000000|221900.0|       3|      1.0|       1180|    5650|   1.0|         0|   0|        3|    7|      1180|            0|    1955|           0|  98178|47.5112|-122.257|         1340|      5650|\n",
            "|6414100192|20141209T000000|538000.0|       3|     2.25|       2570|    7242|   2.0|         0|   0|        3|    7|      2170|          400|    1951|        1991|  98125| 47.721|-122.319|         1690|      7639|\n",
            "|5631500400|20150225T000000|180000.0|       2|      1.0|        770|   10000|   1.0|         0|   0|        3|    6|       770|            0|    1933|           0|  98028|47.7379|-122.233|         2720|      8062|\n",
            "|2487200875|20141209T000000|604000.0|       4|      3.0|       1960|    5000|   1.0|         0|   0|        5|    7|      1050|          910|    1965|           0|  98136|47.5208|-122.393|         1360|      5000|\n",
            "|1954400510|20150218T000000|510000.0|       3|      2.0|       1680|    8080|   1.0|         0|   0|        3|    8|      1680|            0|    1987|           0|  98074|47.6168|-122.045|         1800|      7503|\n",
            "+----------+---------------+--------+--------+---------+-----------+--------+------+----------+----+---------+-----+----------+-------------+--------+------------+-------+-------+--------+-------------+----------+\n",
            "only showing top 5 rows\n",
            "\n"
          ]
        }
      ],
      "source": [
        "# Instalar PySpark\n",
        "!pip install pyspark\n",
        "\n",
        "# Importando as bibliotecas necessárias\n",
        "from pyspark.sql import SparkSession\n",
        "from pyspark.ml.feature import VectorAssembler\n",
        "from pyspark.ml.regression import LinearRegression\n",
        "from pyspark.ml.evaluation import RegressionEvaluator\n",
        "from pyspark.sql.functions import col\n",
        "\n",
        "# Criar a sessão do Spark\n",
        "spark = SparkSession.builder.appName(\"HousePricePrediction\").getOrCreate()\n",
        "\n",
        "# Verifique o nome do arquivo após o upload (use o nome correto ao carregar o CSV)\n",
        "file_path = '/content/Datasource_Houses.csv'  # Substitua pelo nome correto, se necessário\n",
        "\n",
        "# Carregar o CSV no Spark\n",
        "df = spark.read.csv(file_path, header=True, inferSchema=True)\n",
        "\n",
        "# Exibir as primeiras linhas para verificar o carregamento correto\n",
        "df.show(5)"
      ]
    },
    {
      "cell_type": "code",
      "execution_count": 10,
      "metadata": {
        "colab": {
          "base_uri": "https://localhost:8080/"
        },
        "id": "AAWzVW1L8Qlr",
        "outputId": "37742a1d-59e2-49af-ef4c-4cc7b5abba59"
      },
      "outputs": [
        {
          "name": "stdout",
          "output_type": "stream",
          "text": [
            "root\n",
            " |-- id: long (nullable = true)\n",
            " |-- date: string (nullable = true)\n",
            " |-- price: double (nullable = true)\n",
            " |-- bedrooms: integer (nullable = true)\n",
            " |-- bathrooms: double (nullable = true)\n",
            " |-- sqft_living: integer (nullable = true)\n",
            " |-- sqft_lot: integer (nullable = true)\n",
            " |-- floors: double (nullable = true)\n",
            " |-- waterfront: integer (nullable = true)\n",
            " |-- view: integer (nullable = true)\n",
            " |-- condition: integer (nullable = true)\n",
            " |-- grade: integer (nullable = true)\n",
            " |-- sqft_above: integer (nullable = true)\n",
            " |-- sqft_basement: integer (nullable = true)\n",
            " |-- yr_built: integer (nullable = true)\n",
            " |-- yr_renovated: integer (nullable = true)\n",
            " |-- zipcode: integer (nullable = true)\n",
            " |-- lat: double (nullable = true)\n",
            " |-- long: double (nullable = true)\n",
            " |-- sqft_living15: integer (nullable = true)\n",
            " |-- sqft_lot15: integer (nullable = true)\n",
            "\n",
            "+-------+--------------------+---------------+------------------+-----------------+------------------+------------------+------------------+------------------+--------------------+-------------------+------------------+------------------+------------------+------------------+------------------+------------------+------------------+-------------------+-------------------+-----------------+------------------+\n",
            "|summary|                  id|           date|             price|         bedrooms|         bathrooms|       sqft_living|          sqft_lot|            floors|          waterfront|               view|         condition|             grade|        sqft_above|     sqft_basement|          yr_built|      yr_renovated|           zipcode|                lat|               long|    sqft_living15|        sqft_lot15|\n",
            "+-------+--------------------+---------------+------------------+-----------------+------------------+------------------+------------------+------------------+--------------------+-------------------+------------------+------------------+------------------+------------------+------------------+------------------+------------------+-------------------+-------------------+-----------------+------------------+\n",
            "|  count|               21613|          21613|             21613|            21613|             21613|             21613|             21613|             21613|               21613|              21613|             21613|             21613|             21613|             21613|             21613|             21613|             21613|              21613|              21613|            21613|             21613|\n",
            "|   mean| 4.580301520864988E9|           NULL| 540088.1417665294| 3.37084162309721|2.1147573219821405|2079.8997362698374|15106.967565816869|1.4943089807060566|0.007541757275713691|0.23430342849211122|3.4094295100171195| 7.656873178179799|1788.3906907879516| 291.5090454818859|1971.0051357978994| 84.40225790033776| 98077.93980474715|  47.56005251931704|-122.21389640494083|1986.552491556008|12768.455651691113|\n",
            "| stddev|2.8765655713120522E9|           NULL|367127.19648270035|0.930061831147451| 0.770163157217741| 918.4408970468096| 41420.51151513551|0.5399888951423489| 0.08651719772788748| 0.7663175692736114|0.6507430463662044|1.1754587569743344| 828.0909776519175|442.57504267746685|29.373410802386243|401.67924001917504|53.505026257472466|0.13856371024192368|0.14082834238139288|685.3913042527788|27304.179631338524|\n",
            "|    min|             1000102|20140502T000000|           75000.0|                0|               0.0|               290|               520|               1.0|                   0|                  0|                 1|                 1|               290|                 0|              1900|                 0|             98001|            47.1559|           -122.519|              399|               651|\n",
            "|    max|          9900000190|20150527T000000|         7700000.0|               33|               8.0|             13540|           1651359|               3.5|                   1|                  4|                 5|                13|              9410|              4820|              2015|              2015|             98199|            47.7776|           -121.315|             6210|            871200|\n",
            "+-------+--------------------+---------------+------------------+-----------------+------------------+------------------+------------------+------------------+--------------------+-------------------+------------------+------------------+------------------+------------------+------------------+------------------+------------------+-------------------+-------------------+-----------------+------------------+\n",
            "\n",
            "++\n",
            "||\n",
            "++\n",
            "||\n",
            "||\n",
            "||\n",
            "||\n",
            "||\n",
            "||\n",
            "||\n",
            "||\n",
            "||\n",
            "||\n",
            "||\n",
            "||\n",
            "||\n",
            "||\n",
            "||\n",
            "||\n",
            "||\n",
            "||\n",
            "||\n",
            "||\n",
            "++\n",
            "only showing top 20 rows\n",
            "\n",
            "+----------+---------------+--------+--------+---------+-----------+--------+------+----------+----+---------+-----+----------+-------------+--------+------------+-------+-------+--------+-------------+----------+\n",
            "|        id|           date|   price|bedrooms|bathrooms|sqft_living|sqft_lot|floors|waterfront|view|condition|grade|sqft_above|sqft_basement|yr_built|yr_renovated|zipcode|    lat|    long|sqft_living15|sqft_lot15|\n",
            "+----------+---------------+--------+--------+---------+-----------+--------+------+----------+----+---------+-----+----------+-------------+--------+------------+-------+-------+--------+-------------+----------+\n",
            "|7129300520|20141013T000000|221900.0|       3|      1.0|       1180|    5650|   1.0|         0|   0|        3|    7|      1180|            0|    1955|           0|  98178|47.5112|-122.257|         1340|      5650|\n",
            "|6414100192|20141209T000000|538000.0|       3|     2.25|       2570|    7242|   2.0|         0|   0|        3|    7|      2170|          400|    1951|        1991|  98125| 47.721|-122.319|         1690|      7639|\n",
            "|5631500400|20150225T000000|180000.0|       2|      1.0|        770|   10000|   1.0|         0|   0|        3|    6|       770|            0|    1933|           0|  98028|47.7379|-122.233|         2720|      8062|\n",
            "|2487200875|20141209T000000|604000.0|       4|      3.0|       1960|    5000|   1.0|         0|   0|        5|    7|      1050|          910|    1965|           0|  98136|47.5208|-122.393|         1360|      5000|\n",
            "|1954400510|20150218T000000|510000.0|       3|      2.0|       1680|    8080|   1.0|         0|   0|        3|    8|      1680|            0|    1987|           0|  98074|47.6168|-122.045|         1800|      7503|\n",
            "+----------+---------------+--------+--------+---------+-----------+--------+------+----------+----+---------+-----+----------+-------------+--------+------------+-------+-------+--------+-------------+----------+\n",
            "only showing top 5 rows\n",
            "\n"
          ]
        }
      ],
      "source": [
        "from pyspark.sql.functions import col\n",
        "\n",
        "# Exibindo o schema do DataFrame\n",
        "df.printSchema()\n",
        "\n",
        "# Exibindo estatísticas descritivas\n",
        "df.describe().show()\n",
        "\n",
        "# Verificando valores nulos\n",
        "df.select([col(column) for column in df.columns if df.filter(col(column).isNull()).count() > 0]).show()\n",
        "\n",
        "# Tratamento de valores nulos, se necessário (substituição ou remoção)\n",
        "df = df.na.drop()\n",
        "\n",
        "# Exibindo novamente após limpeza\n",
        "df.show(5)\n",
        "\n"
      ]
    },
    {
      "cell_type": "code",
      "execution_count": 11,
      "metadata": {
        "colab": {
          "base_uri": "https://localhost:8080/"
        },
        "id": "dZ8MY5aM89-r",
        "outputId": "83fe36f1-857a-4d4c-f4e5-d55d059a1cad"
      },
      "outputs": [
        {
          "name": "stdout",
          "output_type": "stream",
          "text": [
            "+--------------------+--------+\n",
            "|            features|   price|\n",
            "+--------------------+--------+\n",
            "|[1180.0,3.0,1.0,1.0]|221900.0|\n",
            "|[2570.0,3.0,2.25,...|538000.0|\n",
            "| [770.0,2.0,1.0,1.0]|180000.0|\n",
            "|[1960.0,4.0,3.0,1.0]|604000.0|\n",
            "|[1680.0,3.0,2.0,1.0]|510000.0|\n",
            "+--------------------+--------+\n",
            "only showing top 5 rows\n",
            "\n"
          ]
        }
      ],
      "source": [
        "# Selecionando as colunas relevantes para a predição\n",
        "features = ['sqft_living', 'bedrooms', 'bathrooms', 'floors'] # exemplo de colunas, ajustar conforme dataset\n",
        "\n",
        "# Assembling features into a single vector\n",
        "assembler = VectorAssembler(inputCols=features, outputCol=\"features\")\n",
        "output = assembler.transform(df)\n",
        "\n",
        "# Preparando os dados finais\n",
        "final_data = output.select(\"features\", \"price\")  # price seria a variável alvo, ajustar conforme dataset\n",
        "final_data.show(5)\n"
      ]
    },
    {
      "cell_type": "code",
      "execution_count": 12,
      "metadata": {
        "id": "7MByW6LX9I0M"
      },
      "outputs": [],
      "source": [
        "# Dividindo os dados em treinamento e teste\n",
        "train_data, test_data = final_data.randomSplit([0.8, 0.2])\n"
      ]
    },
    {
      "cell_type": "code",
      "execution_count": 13,
      "metadata": {
        "colab": {
          "base_uri": "https://localhost:8080/"
        },
        "id": "XtlV1iTX9MJU",
        "outputId": "889adc34-d16e-4750-8629-1f3cb958edf3"
      },
      "outputs": [
        {
          "name": "stdout",
          "output_type": "stream",
          "text": [
            "Coeficientes: [315.86922386486435,-64446.88789911574,4034.4021234200222,-637.9352818151539]\n",
            "Intercepto: 92560.31346118556\n"
          ]
        }
      ],
      "source": [
        "# Criando o modelo de regressão linear\n",
        "lr = LinearRegression(labelCol=\"price\", featuresCol=\"features\")\n",
        "\n",
        "# Treinando o modelo\n",
        "lr_model = lr.fit(train_data)\n",
        "\n",
        "# Exibindo os coeficientes e interceptos\n",
        "print(f\"Coeficientes: {lr_model.coefficients}\")\n",
        "print(f\"Intercepto: {lr_model.intercept}\")\n"
      ]
    },
    {
      "cell_type": "code",
      "execution_count": 14,
      "metadata": {
        "colab": {
          "base_uri": "https://localhost:8080/"
        },
        "id": "cA00jLWD9SXq",
        "outputId": "3fbfa3fb-97d5-4128-db49-6d177b88b8e5"
      },
      "outputs": [
        {
          "name": "stdout",
          "output_type": "stream",
          "text": [
            "RMSE no conjunto de treinamento: 257721.7943701808\n",
            "R² no conjunto de treinamento: 0.5095766716513529\n"
          ]
        }
      ],
      "source": [
        "# Avaliando o modelo no conjunto de treinamento\n",
        "training_summary = lr_model.summary\n",
        "print(f\"RMSE no conjunto de treinamento: {training_summary.rootMeanSquaredError}\")\n",
        "print(f\"R² no conjunto de treinamento: {training_summary.r2}\")\n"
      ]
    },
    {
      "cell_type": "code",
      "execution_count": 15,
      "metadata": {
        "colab": {
          "base_uri": "https://localhost:8080/"
        },
        "id": "9JwN0MEt9XNx",
        "outputId": "472dbbf1-1ffd-4c76-f8f2-8edd0f9766a4"
      },
      "outputs": [
        {
          "name": "stdout",
          "output_type": "stream",
          "text": [
            "RMSE no conjunto de teste: 258364.28889538275\n",
            "R² no conjunto de teste: 0.49503689496205006\n"
          ]
        }
      ],
      "source": [
        "# Fazendo previsões no conjunto de teste\n",
        "test_results = lr_model.evaluate(test_data)\n",
        "\n",
        "# Exibindo métricas no conjunto de teste\n",
        "print(f\"RMSE no conjunto de teste: {test_results.rootMeanSquaredError}\")\n",
        "print(f\"R² no conjunto de teste: {test_results.r2}\")\n"
      ]
    },
    {
      "cell_type": "code",
      "execution_count": 16,
      "metadata": {
        "colab": {
          "base_uri": "https://localhost:8080/"
        },
        "id": "f-JrqVZB9a-Y",
        "outputId": "ea7fbb49-3b05-4d03-95cf-74d9a77f65b3"
      },
      "outputs": [
        {
          "name": "stdout",
          "output_type": "stream",
          "text": [
            "RMSE após normalização: 254533.07646061864\n",
            "R² após normalização: 0.5166759587470258\n"
          ]
        }
      ],
      "source": [
        "from pyspark.ml.feature import StandardScaler\n",
        "\n",
        "# Normalizando os dados\n",
        "scaler = StandardScaler(inputCol=\"features\", outputCol=\"scaledFeatures\")\n",
        "scaler_model = scaler.fit(final_data)\n",
        "scaled_data = scaler_model.transform(final_data)\n",
        "\n",
        "# Atualizando os dados para o modelo com features normalizadas\n",
        "final_scaled_data = scaled_data.select(\"scaledFeatures\", \"price\").withColumnRenamed(\"scaledFeatures\", \"features\")\n",
        "\n",
        "# Dividindo em treinamento e teste\n",
        "train_data_scaled, test_data_scaled = final_scaled_data.randomSplit([0.8, 0.2])\n",
        "\n",
        "# Repetindo o treinamento e avaliação com dados normalizados\n",
        "lr_scaled = LinearRegression(labelCol=\"price\", featuresCol=\"features\")\n",
        "lr_model_scaled = lr_scaled.fit(train_data_scaled)\n",
        "\n",
        "# Avaliando o modelo escalado no conjunto de teste\n",
        "test_results_scaled = lr_model_scaled.evaluate(test_data_scaled)\n",
        "print(f\"RMSE após normalização: {test_results_scaled.rootMeanSquaredError}\")\n",
        "print(f\"R² após normalização: {test_results_scaled.r2}\")\n"
      ]
    }
  ],
  "metadata": {
    "colab": {
      "provenance": []
    },
    "kernelspec": {
      "display_name": "Python 3",
      "name": "python3"
    },
    "language_info": {
      "name": "python"
    }
  },
  "nbformat": 4,
  "nbformat_minor": 0
}
